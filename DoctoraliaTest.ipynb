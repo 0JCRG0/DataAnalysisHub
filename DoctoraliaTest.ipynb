{
 "cells": [
  {
   "cell_type": "markdown",
   "metadata": {},
   "source": [
    "# Assessment"
   ]
  },
  {
   "cell_type": "markdown",
   "metadata": {},
   "source": [
    "## Questions"
   ]
  },
  {
   "cell_type": "markdown",
   "metadata": {},
   "source": [
    "1. How many facilities do we have?\n",
    "2. How many premium facilities do we have?\n",
    "3. What’s the facilities  distribution by size?\n",
    "4. How many valid phones do we have?\n",
    "5. What’s the state with the most premium facilities as of today?\n",
    "6. How many facilities have churned since June 2022?\n",
    "7. What’s the top 3 states with the highest churn percentage?\n",
    "8. What’s the churn probability for facilities in its 5th month (at national level)?\n",
    "9. What’s the top 3 states with the most invalid phone number proportion?\n",
    "10. What’s the average facilities lifespan?\n",
    "11. What’s the top 3 states with the biggest facilities?\n",
    "12. Do we have duplicated phone numbers?\n",
    "13. What’s the top 3 valid duplicated numbers?\n",
    "14. What’s the top 3 states with the most valid duplicated numbers?\n",
    "15. What is the relation between valid/invalid phones with churn propensity?"
   ]
  },
  {
   "cell_type": "code",
   "execution_count": null,
   "metadata": {},
   "outputs": [],
   "source": [
    "import pandas as pd\n",
    "import numpy as np"
   ]
  },
  {
   "cell_type": "code",
   "execution_count": 35,
   "metadata": {},
   "outputs": [],
   "source": [
    "df = pd.read_csv(\"CS_Ops_Assessment_dataset_JuanReyes.csv\")"
   ]
  },
  {
   "cell_type": "markdown",
   "metadata": {},
   "source": [
    "## EDA"
   ]
  },
  {
   "cell_type": "code",
   "execution_count": null,
   "metadata": {},
   "outputs": [],
   "source": [
    "df.info()"
   ]
  },
  {
   "cell_type": "code",
   "execution_count": null,
   "metadata": {},
   "outputs": [],
   "source": [
    "df.head()"
   ]
  },
  {
   "cell_type": "code",
   "execution_count": null,
   "metadata": {},
   "outputs": [],
   "source": [
    "df.tail()"
   ]
  },
  {
   "cell_type": "code",
   "execution_count": 36,
   "metadata": {},
   "outputs": [],
   "source": [
    "#Let's get rid of the trailing white spaces of the columns\n",
    "df.columns = df.columns.str.strip()"
   ]
  },
  {
   "cell_type": "code",
   "execution_count": 37,
   "metadata": {},
   "outputs": [],
   "source": [
    "#Let's get rid of the trailing white spaces of the all the rows\n",
    "df = df.map(lambda x: x.strip() if isinstance(x, str) else x)"
   ]
  },
  {
   "cell_type": "code",
   "execution_count": 38,
   "metadata": {},
   "outputs": [],
   "source": [
    "#Replace standalone word 'na' not words that contain 'nan'\n",
    "df = df.replace(r'\\bna\\b', np.nan, regex=True)"
   ]
  },
  {
   "cell_type": "code",
   "execution_count": null,
   "metadata": {},
   "outputs": [],
   "source": [
    "#Visualize the unique values per column of interest\n",
    "print(f\"\"\"\n",
    "Unique Facility Categories:\n",
    "{df['facility_category'].unique()}\n",
    "\n",
    "Unique Facility Sizes:\n",
    "{df['facility_size'].unique()}\n",
    "\n",
    "Unique States:\n",
    "{df['state'].unique()}\n",
    "\n",
    "Unique Cities:\n",
    "{df['city'].unique()}\n",
    "\n",
    "Unique Is_premium:\n",
    "{df[\"is_premium\"].unique()}\n",
    "\"\"\")\n"
   ]
  },
  {
   "cell_type": "markdown",
   "metadata": {},
   "source": [
    "## 1. How many facilities do we have?"
   ]
  },
  {
   "cell_type": "code",
   "execution_count": null,
   "metadata": {},
   "outputs": [],
   "source": [
    "#Assuming facility_id is a primary key then the number of facilities is simply the total number of unique entries\n",
    "total_facilities = df[\"facility_id\"].nunique()\n",
    "\n",
    "print(total_facilities)\n"
   ]
  },
  {
   "cell_type": "markdown",
   "metadata": {},
   "source": [
    "## 2. How many premium facilities do we have?"
   ]
  },
  {
   "cell_type": "code",
   "execution_count": null,
   "metadata": {},
   "outputs": [],
   "source": [
    "#Two approaches\n",
    "total_premium_facilities = df['is_premium'].value_counts().get(1, 0)\n",
    "total_premium_facilities_query = df.query('is_premium == 1').shape[0]\n"
   ]
  },
  {
   "cell_type": "code",
   "execution_count": null,
   "metadata": {},
   "outputs": [],
   "source": [
    "print(total_premium_facilities)\n",
    "print(total_premium_facilities_query)"
   ]
  },
  {
   "cell_type": "markdown",
   "metadata": {},
   "source": [
    "## 3. What’s the facilities distribution by size?"
   ]
  },
  {
   "cell_type": "code",
   "execution_count": null,
   "metadata": {},
   "outputs": [],
   "source": [
    "# Mimicking a groupby operation\n",
    "facility_size_distribution = df['facility_size'].value_counts()\n",
    "print(facility_size_distribution)\n"
   ]
  },
  {
   "cell_type": "markdown",
   "metadata": {},
   "source": [
    "## 4. How many valid phones do we have?\n"
   ]
  },
  {
   "cell_type": "code",
   "execution_count": null,
   "metadata": {},
   "outputs": [],
   "source": [
    "#All valid numbers in MX need to have 10 digits: https://telmex.com/10digitos\n",
    "\n",
    "df['phone'] = df['phone'].astype(int) #If we leave it as float there are mistakes\n",
    "df['phone'] = df['phone'].astype(str)\n",
    "valid_phones_df = df.loc[df['phone'].str.len() == 10]\n",
    "number_of_valid_phones = valid_phones_df.shape[0]\n",
    "\n",
    "\n",
    "print(f\"Number of valid phone numbers with exactly 10 digits: {number_of_valid_phones}\")\n"
   ]
  },
  {
   "cell_type": "markdown",
   "metadata": {},
   "source": [
    "# 5. What’s the state with the most premium facilities as of today?"
   ]
  },
  {
   "cell_type": "code",
   "execution_count": null,
   "metadata": {},
   "outputs": [],
   "source": [
    "df['is_premium'] = df['is_premium'].astype(int)  # Ensure it is an int\n",
    "premium_counts_by_state = df[df['is_premium'] == 1]['state'].value_counts()\n",
    "print(f\"Counts of premium facilities by state:{premium_counts_by_state}\")\n",
    "\n",
    "most_premium_state = premium_counts_by_state.idxmax()\n",
    "print(f\"\\nThe state with the most premium facilities is: {most_premium_state} with {premium_counts_by_state.max()} premium facilities.\")\n"
   ]
  },
  {
   "cell_type": "markdown",
   "metadata": {},
   "source": [
    "# 6. How many facilities have churned since June 2022?"
   ]
  },
  {
   "cell_type": "code",
   "execution_count": 57,
   "metadata": {},
   "outputs": [],
   "source": [
    "def parse_date_with_multiple_formats(date_str):\n",
    "    if pd.isna(date_str):\n",
    "        return pd.NaT\n",
    "    try:\n",
    "        return pd.to_datetime(date_str, format=\"%m/%d/%Y\")\n",
    "    except ValueError:\n",
    "        print(f\"Failed to parse '{date_str}'\")\n",
    "        pass\n",
    "\n",
    "    return pd.NaT\n",
    "\n",
    "df['churn_since'] = df['churn_since'].apply(parse_date_with_multiple_formats)\n",
    "\n",
    "churn_since_june_df = df[(df['is_churn'] == \"1\") & (df['churn_since'] > pd.to_datetime('2022-06-01'))]\n"
   ]
  },
  {
   "cell_type": "code",
   "execution_count": 58,
   "metadata": {},
   "outputs": [
    {
     "name": "stdout",
     "output_type": "stream",
     "text": [
      "<class 'pandas.core.frame.DataFrame'>\n",
      "Index: 194 entries, 11 to 1627\n",
      "Data columns (total 10 columns):\n",
      " #   Column             Non-Null Count  Dtype         \n",
      "---  ------             --------------  -----         \n",
      " 0   facility_id        194 non-null    int64         \n",
      " 1   facility_category  194 non-null    object        \n",
      " 2   facility_size      194 non-null    object        \n",
      " 3   state              194 non-null    object        \n",
      " 4   city               194 non-null    object        \n",
      " 5   phone              194 non-null    float64       \n",
      " 6   is_premium         194 non-null    int64         \n",
      " 7   premium_since      194 non-null    object        \n",
      " 8   is_churn           194 non-null    object        \n",
      " 9   churn_since        194 non-null    datetime64[ns]\n",
      "dtypes: datetime64[ns](1), float64(1), int64(2), object(6)\n",
      "memory usage: 16.7+ KB\n"
     ]
    }
   ],
   "source": [
    "churn_since_june_df.info()"
   ]
  },
  {
   "cell_type": "code",
   "execution_count": 59,
   "metadata": {},
   "outputs": [
    {
     "data": {
      "text/plain": [
       "facility_id          194\n",
       "facility_category    194\n",
       "facility_size        194\n",
       "state                194\n",
       "city                 194\n",
       "phone                194\n",
       "is_premium           194\n",
       "premium_since        194\n",
       "is_churn             194\n",
       "churn_since          194\n",
       "dtype: int64"
      ]
     },
     "execution_count": 59,
     "metadata": {},
     "output_type": "execute_result"
    }
   ],
   "source": [
    "churn_since_june_df.count()"
   ]
  },
  {
   "cell_type": "markdown",
   "metadata": {},
   "source": [
    "# 7. What’s the top 3 states with the highest churn percentage?"
   ]
  }
 ],
 "metadata": {
  "kernelspec": {
   "display_name": "venv",
   "language": "python",
   "name": "python3"
  },
  "language_info": {
   "codemirror_mode": {
    "name": "ipython",
    "version": 3
   },
   "file_extension": ".py",
   "mimetype": "text/x-python",
   "name": "python",
   "nbconvert_exporter": "python",
   "pygments_lexer": "ipython3",
   "version": "3.10.6"
  }
 },
 "nbformat": 4,
 "nbformat_minor": 2
}
